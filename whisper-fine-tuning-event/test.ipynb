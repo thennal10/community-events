{
 "cells": [
  {
   "cell_type": "code",
   "execution_count": 8,
   "metadata": {},
   "outputs": [
    {
     "data": {
      "text/plain": [
       "'എന്താണ് നിങ്ങൾ ചെയ്യുന്നത്'"
      ]
     },
     "execution_count": 8,
     "metadata": {},
     "output_type": "execute_result"
    }
   ],
   "source": [
    "from transformers.models.whisper.english_normalizer import BasicTextNormalizer\n",
    "import unicodedata\n",
    "def remove_symbols(s):\n",
    "    return \"\".join(\" \" if unicodedata.category(c)[0] in \"SP\" else c for c in unicodedata.normalize(\"NFKC\", s)).strip()\n",
    "\n",
    "class Normalizer(BasicTextNormalizer):\n",
    "    def __init__(self):\n",
    "        super().__init__()\n",
    "        self.clean = remove_symbols\n",
    "norm = Normalizer()\n",
    "# a malayalam sentence\n",
    "norm(\"എന്താണ് നിങ്ങൾ ചെയ്യുന്നത്?\")"
   ]
  }
 ],
 "metadata": {
  "kernelspec": {
   "display_name": "random",
   "language": "python",
   "name": "random"
  },
  "language_info": {
   "codemirror_mode": {
    "name": "ipython",
    "version": 3
   },
   "file_extension": ".py",
   "mimetype": "text/x-python",
   "name": "python",
   "nbconvert_exporter": "python",
   "pygments_lexer": "ipython3",
   "version": "3.8.10"
  },
  "orig_nbformat": 4,
  "vscode": {
   "interpreter": {
    "hash": "916dbcbb3f70747c44a77c7bcd40155683ae19c65e1c03b4aa3499c5328201f1"
   }
  }
 },
 "nbformat": 4,
 "nbformat_minor": 2
}
